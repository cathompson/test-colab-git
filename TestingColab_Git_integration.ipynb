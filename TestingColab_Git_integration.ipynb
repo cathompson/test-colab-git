{
  "nbformat": 4,
  "nbformat_minor": 0,
  "metadata": {
    "colab": {
      "provenance": [],
      "include_colab_link": true
    },
    "kernelspec": {
      "name": "python3",
      "display_name": "Python 3"
    },
    "language_info": {
      "name": "python"
    }
  },
  "cells": [
    {
      "cell_type": "markdown",
      "metadata": {
        "id": "view-in-github",
        "colab_type": "text"
      },
      "source": [
        "<a href=\"https://colab.research.google.com/github/cathompson/test-colab-git/blob/main/TestingColab_Git_integration.ipynb\" target=\"_parent\"><img src=\"https://colab.research.google.com/assets/colab-badge.svg\" alt=\"Open In Colab\"/></a>"
      ]
    },
    {
      "cell_type": "markdown",
      "source": [
        "Testing the integration between Google Colab and GitHub\n",
        "- can I save a colab notebook in my Git repo\n",
        "- following these instructions from this website: https://www.androidpolice.com/save-google-colab-notebooks-github/\n",
        "\n",
        "Steps\n",
        "1. Open new Google Collaboratory file (this one)\n",
        "2. Give it a name and save it\n",
        "3. Connect Colab to your Git by Clicking on File and Save to GitHub (don't select GitHUb Gist)\n",
        "4. Authorize access to GitHub\n",
        "5. Sign in to GitHub\n",
        "6. Select the Repository and Branch in GitHub. I just did main\n",
        "7. Select the 'Include a link to Colaboratory checkbox.' It is recommended to make access to the notebook easy when you're in GitHub.\n",
        "8. Click OK.\n",
        "\n",
        "Success! It worked, connecting Google Colab and to my GitHub and saving my code file to a public git repo that I had already created for the test.\n",
        "\n",
        "Shareable link to the notebook: https://colab.research.google.com/drive/11opeGuy5qxbEMsg3pfGlOrJKUNYlnO6F?usp=sharing\n"
      ],
      "metadata": {
        "id": "JzfLrO5p21hH"
      }
    },
    {
      "cell_type": "code",
      "execution_count": null,
      "metadata": {
        "colab": {
          "base_uri": "https://localhost:8080/"
        },
        "id": "mWBzpDSy2jI5",
        "outputId": "d55981fe-de9a-4075-d8ad-d8bb032be229"
      },
      "outputs": [
        {
          "output_type": "stream",
          "name": "stdout",
          "text": [
            "good morning, github. from google colab.\n"
          ]
        }
      ],
      "source": [
        "print(\"good morning, github. from google colab.\")"
      ]
    }
  ]
}