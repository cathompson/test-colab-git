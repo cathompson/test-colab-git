{
  "nbformat": 4,
  "nbformat_minor": 0,
  "metadata": {
    "colab": {
      "provenance": [],
      "authorship_tag": "ABX9TyNmWNglujR3o+Sdn7vDg7NP",
      "include_colab_link": true
    },
    "kernelspec": {
      "name": "python3",
      "display_name": "Python 3"
    },
    "language_info": {
      "name": "python"
    }
  },
  "cells": [
    {
      "cell_type": "markdown",
      "metadata": {
        "id": "view-in-github",
        "colab_type": "text"
      },
      "source": [
        "<a href=\"https://colab.research.google.com/github/cathompson/test-colab-git/blob/main/TestingColab_Git_integration.ipynb\" target=\"_parent\"><img src=\"https://colab.research.google.com/assets/colab-badge.svg\" alt=\"Open In Colab\"/></a>"
      ]
    },
    {
      "cell_type": "markdown",
      "source": [
        "Testing the integration between Google Colab and GitHub\n",
        "- can I save a colab notebook in my Git repo\n",
        "- following these instructions\n",
        "\n",
        "Steps\n",
        "1. Open new Google Collaboratory file (this one)\n",
        "2. Give it a name and save it\n",
        "3. Connect Colab to your Git by Clicking on File and Save to GitHub (don't select GitHUb Gist)"
      ],
      "metadata": {
        "id": "JzfLrO5p21hH"
      }
    },
    {
      "cell_type": "code",
      "execution_count": 2,
      "metadata": {
        "colab": {
          "base_uri": "https://localhost:8080/"
        },
        "id": "mWBzpDSy2jI5",
        "outputId": "d55981fe-de9a-4075-d8ad-d8bb032be229"
      },
      "outputs": [
        {
          "output_type": "stream",
          "name": "stdout",
          "text": [
            "good morning, github. from google colab.\n"
          ]
        }
      ],
      "source": [
        "print(\"good morning, github. from google colab.\")"
      ]
    }
  ]
}